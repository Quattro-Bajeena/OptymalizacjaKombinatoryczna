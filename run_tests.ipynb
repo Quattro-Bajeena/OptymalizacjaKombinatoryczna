{
 "cells": [
  {
   "cell_type": "code",
   "execution_count": 64,
   "metadata": {},
   "outputs": [
    {
     "name": "stdout",
     "output_type": "stream",
     "text": [
      "f:\\Programowanie\\Studia\\OptymalizacjaKombinatoryczna\\tests\n"
     ]
    }
   ],
   "source": [
    "from pathlib import Path\n",
    "\n",
    "TEST_FOLDER = Path(\"tests\")\n",
    "SRC_FOLDER = Path(\"src\")\n",
    "BIN_FOLDER = Path(\"bin\")\n",
    "BIN_FILE = BIN_FOLDER / \"TSP_greedy.exe\"\n",
    "TIMES_FILE = Path(\"results.csv\")\n",
    "print(TEST_FOLDER.absolute())"
   ]
  },
  {
   "cell_type": "code",
   "execution_count": 65,
   "metadata": {},
   "outputs": [
    {
     "name": "stdout",
     "output_type": "stream",
     "text": [
      "Compiled:  0  \n"
     ]
    }
   ],
   "source": [
    "import subprocess\n",
    "\n",
    "def compile_src(filepath : Path, BIN_FOLDER : Path):\n",
    "    cmd = [\"g++\", filepath, \"-std=c++17\",\"-o\", f\"{BIN_FOLDER / filepath.stem}.exe\" ]\n",
    "    p = subprocess.run(cmd, capture_output=True)\n",
    "    print(\"Compiled: \", p.returncode, p.stdout.decode('utf-8'), p.stderr.decode('utf-8'))\n",
    "\n",
    "for src_path in SRC_FOLDER.glob(\"*.cpp\"):\n",
    "    compile_src(src_path, BIN_FOLDER)\n",
    "\n"
   ]
  },
  {
   "cell_type": "code",
   "execution_count": 66,
   "metadata": {},
   "outputs": [],
   "source": [
    "import random\n",
    "\n",
    "def generate_test(test_folder:Path, number):\n",
    "\n",
    "    points = []\n",
    "    for _ in range(number):\n",
    "        x = random.uniform(0, 100)\n",
    "        y = random.uniform(0, 100)\n",
    "        \n",
    "        while (x,y) in points:\n",
    "            x = random.uniform(0, 100)\n",
    "            y = random.uniform(0, 100)\n",
    "            \n",
    "        points.append((x,y))\n",
    "    #print(points)\n",
    "    #print(points)\n",
    "\n",
    "    with open(test_folder / f\"test_{number}.txt\", 'w') as f:\n",
    "        f.write(f\"{number}\\n\")\n",
    "        for (x, y) in points:\n",
    "            f.write(f\"{x} {y}\\n\")\n",
    "\n",
    "\n",
    "\n",
    "generate_test(TEST_FOLDER, 10)\n",
    "\n"
   ]
  },
  {
   "cell_type": "code",
   "execution_count": 67,
   "metadata": {},
   "outputs": [
    {
     "name": "stdout",
     "output_type": "stream",
     "text": [
      "Nodes: 10\n",
      "['529.456', '1.70312;45.0227', '0.666018;73.2014', '25.9008;23.9036', '29.6203;61.8782', '17.584;86.8083', '47.6451;46.7602', '68.1674;62.0853', '62.9903;98.5953', '88.5768;69.7859', '99.8809;6.40808', '1.70312;45.0227']\n"
     ]
    }
   ],
   "source": [
    "import csv\n",
    "\n",
    "def run_test(test_path:Path):\n",
    "    cmd = [str(BIN_FILE)]\n",
    "    process = subprocess.run(cmd,capture_output=True, text=True, input=str(test_path.absolute()))\n",
    "    return process.stdout.split()\n",
    "\n",
    "with open(TIMES_FILE, 'w', newline='') as times_file:\n",
    "    writer = csv.writer(times_file, delimiter=',')\n",
    "    for test_file in TEST_FOLDER.glob(\"*.txt\"):\n",
    "        nodes = test_file.stem.split(\"_\")[1]\n",
    "        print(\"Nodes:\", nodes)\n",
    "        output = run_test(test_file)\n",
    "        print(output)\n",
    "        writer.writerow([nodes,*output])\n",
    "        "
   ]
  },
  {
   "cell_type": "code",
   "execution_count": 86,
   "metadata": {},
   "outputs": [
    {
     "data": {
      "image/png": "[encoded data removed]",
      "text/plain": [
       "<Figure size 432x288 with 1 Axes>"
      ]
     },
     "metadata": {
      "needs_background": "light"
     },
     "output_type": "display_data"
    }
   ],
   "source": [
    "import matplotlib.pyplot as plt\n",
    "import numpy as np\n",
    "\n",
    "with open(TIMES_FILE, 'r') as csv_file:\n",
    "    csv_data = list(csv.reader(csv_file, delimiter=','))\n",
    "\n",
    "first_test = csv_data[0]\n",
    "\n",
    "\n",
    "data = {}\n",
    "data[\"nodes\"] = int(first_test[0])\n",
    "data[\"distance\"] = float(first_test[1])\n",
    "data[\"traveled_nodes\"] = []\n",
    "\n",
    "for row in first_test[2:]:\n",
    "    x, y = row.split(';')\n",
    "    data[\"traveled_nodes\"].append((float(x), float(y)))\n",
    "\n",
    "nodes = data[\"nodes\"]\n",
    "red = np.linspace(1, 0, nodes)\n",
    "\n",
    "red = np.append(red, [1,0,0])\n",
    "\n",
    "colors = list(zip(red, np.zeros(nodes+1), np.zeros(nodes+1)))\n",
    "#print(colors)\n",
    "\n",
    "x_cords, y_cords = zip(*data[\"traveled_nodes\"])\n",
    "#print(x_cords)\n",
    "#print(y_cords)\n",
    "\n",
    "plt.scatter(x_cords, y_cords, c=colors)\n",
    "plt.plot(x_cords, y_cords)\n",
    "#plt.plot(x_cords, y_cords, '-o')\n",
    "\n",
    "plt.show()"
   ]
  }
 ],
 "metadata": {
  "interpreter": {
   "hash": "3ea95fddd06660bf4bd10da5725aa00fa3cf808a53719009a27fbca1347f7f81"
  },
  "kernelspec": {
   "display_name": "Python 3.9.1 64-bit",
   "name": "python3"
  },
  "language_info": {
   "codemirror_mode": {
    "name": "ipython",
    "version": 3
   },
   "file_extension": ".py",
   "mimetype": "text/x-python",
   "name": "python",
   "nbconvert_exporter": "python",
   "pygments_lexer": "ipython3",
   "version": "3.9.1"
  },
  "orig_nbformat": 4
 },
 "nbformat": 4,
 "nbformat_minor": 2
}
