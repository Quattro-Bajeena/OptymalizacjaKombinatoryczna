{
 "cells": [
  {
   "cell_type": "code",
   "execution_count": 110,
   "metadata": {},
   "outputs": [
    {
     "name": "stdout",
     "output_type": "stream",
     "text": [
      "f:\\Programowanie\\Studia\\OptymalizacjaKombinatoryczna\\tests\n"
     ]
    }
   ],
   "source": [
    "from pathlib import Path\n",
    "\n",
    "TEST_FOLDER = Path(\"tests\")\n",
    "SRC_FOLDER = Path(\"src\")\n",
    "BIN_FOLDER = Path(\"bin\")\n",
    "BIN_FILE = BIN_FOLDER / \"TSP_greedy.exe\"\n",
    "TIMES_FILE = Path(\"results.csv\")\n",
    "NO_POINTS = [10]\n",
    "POINT_LIMIT = 100\n",
    "print(TEST_FOLDER.absolute())"
   ]
  },
  {
   "cell_type": "code",
   "execution_count": 111,
   "metadata": {},
   "outputs": [
    {
     "name": "stdout",
     "output_type": "stream",
     "text": [
      "Compiled:  0  \n"
     ]
    }
   ],
   "source": [
    "import subprocess\n",
    "\n",
    "def compile_src(filepath : Path, BIN_FOLDER : Path):\n",
    "    cmd = [\"g++\", filepath, \"-std=c++17\",\"-o\", f\"{BIN_FOLDER / filepath.stem}.exe\" ]\n",
    "    p = subprocess.run(cmd, capture_output=True)\n",
    "    print(\"Compiled: \", p.returncode, p.stdout.decode('utf-8'), p.stderr.decode('utf-8'))\n",
    "\n",
    "for src_path in SRC_FOLDER.glob(\"*.cpp\"):\n",
    "    compile_src(src_path, BIN_FOLDER)\n",
    "\n"
   ]
  },
  {
   "cell_type": "code",
   "execution_count": 112,
   "metadata": {},
   "outputs": [],
   "source": [
    "import random\n",
    "\n",
    "def generate_test(test_folder:Path, number):\n",
    "\n",
    "    points = []\n",
    "    for _ in range(number):\n",
    "        x = random.uniform(0, POINT_LIMIT)\n",
    "        y = random.uniform(0, POINT_LIMIT)\n",
    "        \n",
    "        while (x,y) in points:\n",
    "            x = random.uniform(0, POINT_LIMIT)\n",
    "            y = random.uniform(0, POINT_LIMIT)\n",
    "            \n",
    "        points.append((x,y))\n",
    "    #print(points)\n",
    "    #print(points)\n",
    "\n",
    "    with open(test_folder / f\"test_{number}.txt\", 'w') as f:\n",
    "        f.write(f\"{number}\\n\")\n",
    "        for (x, y) in points:\n",
    "            f.write(f\"{x} {y}\\n\")\n",
    "\n",
    "\n",
    "for test_file in TEST_FOLDER.glob(\"*.txt\"):\n",
    "    test_file.unlink()\n",
    "\n",
    "for points in NO_POINTS: \n",
    "    generate_test(TEST_FOLDER, points)\n",
    "\n"
   ]
  },
  {
   "cell_type": "code",
   "execution_count": 113,
   "metadata": {},
   "outputs": [
    {
     "name": "stdout",
     "output_type": "stream",
     "text": [
      "Nodes: 10\n"
     ]
    }
   ],
   "source": [
    "import csv\n",
    "\n",
    "def run_test(test_path:Path):\n",
    "    cmd = [str(BIN_FILE)]\n",
    "    process = subprocess.run(cmd,capture_output=True, text=True, input=str(test_path.absolute()))\n",
    "    return process.stdout.split()\n",
    "\n",
    "with open(TIMES_FILE, 'w', newline='') as times_file:\n",
    "    writer = csv.writer(times_file, delimiter=',')\n",
    "    for test_file in TEST_FOLDER.glob(\"*.txt\"):\n",
    "        nodes = test_file.stem.split(\"_\")[1]\n",
    "        print(\"Nodes:\", nodes)\n",
    "        output = run_test(test_file)\n",
    "        #print(output)\n",
    "        writer.writerow([nodes,*output])\n",
    "        "
   ]
  },
  {
   "cell_type": "code",
   "execution_count": 114,
   "metadata": {},
   "outputs": [
    {
     "data": {
      "image/png": "[encoded data removed]",
      "text/plain": [
       "<Figure size 432x288 with 1 Axes>"
      ]
     },
     "metadata": {
      "needs_background": "light"
     },
     "output_type": "display_data"
    }
   ],
   "source": [
    "import matplotlib.pyplot as plt\n",
    "import numpy as np\n",
    "\n",
    "with open(TIMES_FILE, 'r') as csv_file:\n",
    "    csv_data = list(csv.reader(csv_file, delimiter=','))\n",
    "\n",
    "first_test = csv_data[0]\n",
    "\n",
    "for test in csv_data:\n",
    "\n",
    "    data = {}\n",
    "    data[\"nodes\"] = int(test[0])\n",
    "    data[\"distance\"] = float(test[1])\n",
    "    data[\"traveled_nodes\"] = []\n",
    "\n",
    "    for row in test[2:]:\n",
    "        x, y = row.split(';')\n",
    "        data[\"traveled_nodes\"].append((float(x), float(y)))\n",
    "\n",
    "    nodes = data[\"nodes\"]\n",
    "    red = np.linspace(1, 0, nodes)\n",
    "\n",
    "    red = np.append(red, [1,0,0])\n",
    "\n",
    "    colors = list(zip(red, np.zeros(nodes+1), np.zeros(nodes+1)))\n",
    "    #print(colors)\n",
    "\n",
    "    x_cords, y_cords = zip(*data[\"traveled_nodes\"])\n",
    "    #print(x_cords)\n",
    "    #print(y_cords)\n",
    "\n",
    "    fig, ax = plt.subplots()\n",
    "    ax.set(xlim=(-5, POINT_LIMIT+5), ylim=(-5, POINT_LIMIT+5))\n",
    "    \n",
    "    \n",
    "    ax.scatter(x_cords, y_cords, c=colors)\n",
    "    ax.plot(x_cords, y_cords)\n",
    "\n",
    "    \n",
    "    ax.set_aspect('equal', 'box')\n",
    "    ax.set_title(data[\"nodes\"])\n",
    "    fig.tight_layout()\n",
    "\n",
    "\n",
    "plt.show()"
   ]
  }
 ],
 "metadata": {
  "interpreter": {
   "hash": "3ea95fddd06660bf4bd10da5725aa00fa3cf808a53719009a27fbca1347f7f81"
  },
  "kernelspec": {
   "display_name": "Python 3.9.1 64-bit",
   "name": "python3"
  },
  "language_info": {
   "codemirror_mode": {
    "name": "ipython",
    "version": 3
   },
   "file_extension": ".py",
   "mimetype": "text/x-python",
   "name": "python",
   "nbconvert_exporter": "python",
   "pygments_lexer": "ipython3",
   "version": "3.9.1"
  },
  "orig_nbformat": 4
 },
 "nbformat": 4,
 "nbformat_minor": 2
}
